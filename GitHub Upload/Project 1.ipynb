{
 "cells": [
  {
   "cell_type": "code",
   "execution_count": 137,
   "id": "1ea31d60",
   "metadata": {},
   "outputs": [],
   "source": [
    "loan_costs = [500, 600, 200, 1000, 450]"
   ]
  },
  {
   "cell_type": "code",
   "execution_count": 138,
   "id": "ac43d3c3",
   "metadata": {},
   "outputs": [],
   "source": [
    "number_of_loans = len(loan_costs) # how many total loans"
   ]
  },
  {
   "cell_type": "code",
   "execution_count": 139,
   "id": "bc2d8311",
   "metadata": {},
   "outputs": [
    {
     "name": "stdout",
     "output_type": "stream",
     "text": [
      "5\n"
     ]
    }
   ],
   "source": [
    "print(number_of_loans)"
   ]
  },
  {
   "cell_type": "code",
   "execution_count": 140,
   "id": "b8cb293d",
   "metadata": {},
   "outputs": [],
   "source": [
    "total_value_of_loans = sum(loan_costs) # adds all loan values together"
   ]
  },
  {
   "cell_type": "code",
   "execution_count": 8,
   "id": "08ba72a7",
   "metadata": {
    "scrolled": true
   },
   "outputs": [
    {
     "name": "stdout",
     "output_type": "stream",
     "text": [
      "2750\n"
     ]
    }
   ],
   "source": [
    "print(total_value_of_loans) "
   ]
  },
  {
   "cell_type": "code",
   "execution_count": 141,
   "id": "9e11142e",
   "metadata": {},
   "outputs": [],
   "source": [
    "average_loan_price = (total_value_of_loans/number_of_loans) \n",
    "\n",
    "# takes total value and divides by the number of loans to find the averae loan amount"
   ]
  },
  {
   "cell_type": "code",
   "execution_count": 7,
   "id": "a151a116",
   "metadata": {},
   "outputs": [
    {
     "name": "stdout",
     "output_type": "stream",
     "text": [
      "550.0\n"
     ]
    }
   ],
   "source": [
    "print(average_loan_price)"
   ]
  },
  {
   "cell_type": "code",
   "execution_count": 210,
   "id": "e466d493",
   "metadata": {},
   "outputs": [],
   "source": [
    "loan_terms = {\n",
    "    'loan_1':{'value':500, 'months_remaining':12, 'future_value':520},\n",
    "    'loan_2':{'value':600, 'months_remaining':12, 'future_value':624},\n",
    "    'loan_3':{'value':200, 'months_remaining_3':6, 'future_value':208},\n",
    "    'loan_4':{'value':500, 'months_remaining':12, 'future_value':520},\n",
    "    'loan_5':{'value':1000, 'months_remaining_5':12, 'future_value':1040}\n",
    "}\n",
    "\n",
    "# nested dictionary of loan values, months remaining on loan, and the future values, which were found from the funtions below"
   ]
  },
  {
   "cell_type": "code",
   "execution_count": 192,
   "id": "1ca630e5",
   "metadata": {},
   "outputs": [
    {
     "data": {
      "text/plain": [
       "{'loan_1': {'value': 500, 'months_remaining': 12, 'future_value': 520},\n",
       " 'loan_2': {'value': 600, 'months_remaining': 12, 'future_value': 624},\n",
       " 'loan_3': {'value': 200, 'months_remaining_3': 6, 'future_value_loan_3': 208},\n",
       " 'loan_4': {'value': 500, 'months_remaining': 12, 'future_value': 520},\n",
       " 'loan_5': {'value': 1000,\n",
       "  'months_remaining_5': 12,\n",
       "  'future_value_loan_5': 1040}}"
      ]
     },
     "execution_count": 192,
     "metadata": {},
     "output_type": "execute_result"
    }
   ],
   "source": [
    "loan_terms"
   ]
  },
  {
   "cell_type": "code",
   "execution_count": 195,
   "id": "6d31f059",
   "metadata": {},
   "outputs": [
    {
     "data": {
      "text/plain": [
       "12"
      ]
     },
     "execution_count": 195,
     "metadata": {},
     "output_type": "execute_result"
    }
   ],
   "source": [
    "loan_terms['loan_1']['months_remaining']"
   ]
  },
  {
   "cell_type": "code",
   "execution_count": 196,
   "id": "30c36505",
   "metadata": {},
   "outputs": [],
   "source": [
    "remaining_months = loan_terms['loan_1']['months_remaining']"
   ]
  },
  {
   "cell_type": "code",
   "execution_count": 197,
   "id": "a2c5f0b1",
   "metadata": {},
   "outputs": [
    {
     "data": {
      "text/plain": [
       "12"
      ]
     },
     "execution_count": 197,
     "metadata": {},
     "output_type": "execute_result"
    }
   ],
   "source": [
    "remaining_months"
   ]
  },
  {
   "cell_type": "code",
   "execution_count": 198,
   "id": "5d714f0a",
   "metadata": {},
   "outputs": [
    {
     "name": "stdout",
     "output_type": "stream",
     "text": [
      "500\n"
     ]
    }
   ],
   "source": [
    "print(loan_terms['loan_1']['value'])"
   ]
  },
  {
   "cell_type": "code",
   "execution_count": 205,
   "id": "c4856930",
   "metadata": {},
   "outputs": [],
   "source": [
    "discount_rate = .2"
   ]
  },
  {
   "cell_type": "code",
   "execution_count": 255,
   "id": "276bd961",
   "metadata": {},
   "outputs": [],
   "source": [
    "future_value_loan_1 = (loan_terms['loan_1']['value'])*((1+(discount_rate)/12)**12)\n",
    "\n",
    "# pulls value of loan_1 and puts it into the future value formula"
   ]
  },
  {
   "cell_type": "code",
   "execution_count": 254,
   "id": "5b2d33f3",
   "metadata": {},
   "outputs": [
    {
     "name": "stdout",
     "output_type": "stream",
     "text": [
      "609.6955424526158\n"
     ]
    }
   ],
   "source": [
    "print(future_value_loan_1)"
   ]
  },
  {
   "cell_type": "code",
   "execution_count": 247,
   "id": "fb9e6d76",
   "metadata": {},
   "outputs": [],
   "source": [
    "present_value_loan_1 = (future_value_loan_1)/(1 + .2 / 12) ** 12\n",
    "\n",
    "# pulls value of loan_1 and puts it into the present value formula"
   ]
  },
  {
   "cell_type": "code",
   "execution_count": 248,
   "id": "ef98ad02",
   "metadata": {},
   "outputs": [
    {
     "name": "stdout",
     "output_type": "stream",
     "text": [
      "499.99999999999994\n"
     ]
    }
   ],
   "source": [
    "print(present_value_loan_1)"
   ]
  },
  {
   "cell_type": "code",
   "execution_count": 257,
   "id": "93d095c9",
   "metadata": {},
   "outputs": [
    {
     "name": "stdout",
     "output_type": "stream",
     "text": [
      "499.99999999999994\n"
     ]
    }
   ],
   "source": [
    "def calculate_present_value(future_value, remaining_months, discount_rate):\n",
    "    return (future_value_loan_1)/(1 + .2 / 12) ** 12\n",
    "\n",
    "# creates a present value calculation funtion with the parameters: future_value, months_remaining, and the discount_rate\n",
    "\n",
    "present_value = calculate_present_value(\n",
    "    loan_terms[\"loan_1\"][\"value\"],\n",
    "    loan_terms[\"loan_1\"][\"months_remaining\"],\n",
    "    discount_rate)\n",
    "\n",
    "print(present_value)\n",
    "        \n",
    "    "
   ]
  },
  {
   "cell_type": "code",
   "execution_count": 112,
   "id": "54b890cd",
   "metadata": {},
   "outputs": [
    {
     "data": {
      "text/plain": [
       "{'loan_1_value': 500,\n",
       " 'months_remaining_1': 12,\n",
       " 'future_value_loan_1': 520,\n",
       " 'loan_2_value': 600,\n",
       " 'months_remaining_2': 12,\n",
       " 'future_value_loan_2': 624,\n",
       " 'loan_3_value': 200,\n",
       " 'months_remaining_3': 6,\n",
       " 'future_value_loan_3': 208,\n",
       " 'loan_4_value': 500,\n",
       " 'months_remaining_4': 12,\n",
       " 'future_value_loan_4': 520,\n",
       " 'loan_5_value': 1000,\n",
       " 'months_remaining_5': 12,\n",
       " 'future_value_loan_5': 1040}"
      ]
     },
     "execution_count": 112,
     "metadata": {},
     "output_type": "execute_result"
    }
   ],
   "source": [
    "loan_terms"
   ]
  },
  {
   "cell_type": "code",
   "execution_count": 265,
   "id": "18b85e55",
   "metadata": {},
   "outputs": [
    {
     "name": "stdout",
     "output_type": "stream",
     "text": [
      "the loan is too expensive and not worth the price\n"
     ]
    }
   ],
   "source": [
    "# conditional statement which provides two different results depending on whether or not the present value of loan 1 is </> the cost of loan 1 today.\n",
    "\n",
    "if present_value_loan_1 <= loan_terms['loan_1']['value']:\n",
    "    print(\"the loan is too expensive and not worth the price\")\n",
    "    \n",
    "else:\n",
    "    print(\"the loan is worth at least the cost to buy it\")"
   ]
  },
  {
   "cell_type": "code",
   "execution_count": 266,
   "id": "c10a178d",
   "metadata": {},
   "outputs": [
    {
     "data": {
      "text/plain": [
       "-19.99999999999998"
      ]
     },
     "execution_count": 266,
     "metadata": {},
     "output_type": "execute_result"
    }
   ],
   "source": [
    "(((500) / (present_value_loan_1) - 1) * 100) - 20  \n",
    "\n",
    "# it is worth purchasing, as it meets the 20% return"
   ]
  },
  {
   "cell_type": "code",
   "execution_count": 328,
   "id": "718a74e1",
   "metadata": {},
   "outputs": [],
   "source": [
    "NL_1 = 150\n",
    "NL_2 = 220\n",
    "NL_3 = 175\n",
    "NL_4 = 915\n",
    "NL_5 = 460\n",
    "NL_6 = 830\n",
    "current_discount_rate = 0.20"
   ]
  },
  {
   "cell_type": "code",
   "execution_count": 338,
   "id": "4374e25a",
   "metadata": {},
   "outputs": [],
   "source": [
    "future_value_NL1 = present_value_NL1*(1+current_discount_rate/12)**12"
   ]
  },
  {
   "cell_type": "code",
   "execution_count": 339,
   "id": "af0ff203",
   "metadata": {},
   "outputs": [
    {
     "data": {
      "text/plain": [
       "150.0"
      ]
     },
     "execution_count": 339,
     "metadata": {},
     "output_type": "execute_result"
    }
   ],
   "source": [
    "future_value_NL1"
   ]
  },
  {
   "cell_type": "code",
   "execution_count": 331,
   "id": "50019666",
   "metadata": {},
   "outputs": [],
   "source": [
    "present_value_NL1 = NL_1/(1+current_discount_rate/12)**12"
   ]
  },
  {
   "cell_type": "code",
   "execution_count": 333,
   "id": "d7d229b7",
   "metadata": {},
   "outputs": [
    {
     "data": {
      "text/plain": [
       "123.01221638967262"
      ]
     },
     "execution_count": 333,
     "metadata": {},
     "output_type": "execute_result"
    }
   ],
   "source": [
    "present_value_NL1"
   ]
  },
  {
   "cell_type": "code",
   "execution_count": 280,
   "id": "7448f796",
   "metadata": {},
   "outputs": [],
   "source": [
    "new_loans = [NL_1,NL_2,NL_3,NL_4,NL_5,NL_6]"
   ]
  },
  {
   "cell_type": "code",
   "execution_count": 334,
   "id": "150dee6b",
   "metadata": {},
   "outputs": [
    {
     "data": {
      "text/plain": [
       "[150, 220, 175, 915, 460, 830]"
      ]
     },
     "execution_count": 334,
     "metadata": {},
     "output_type": "execute_result"
    }
   ],
   "source": [
    "new_loans"
   ]
  },
  {
   "cell_type": "code",
   "execution_count": 316,
   "id": "818247bd",
   "metadata": {},
   "outputs": [],
   "source": [
    "present_value_new_loans = 0"
   ]
  },
  {
   "cell_type": "code",
   "execution_count": 320,
   "id": "ca1a108a",
   "metadata": {},
   "outputs": [
    {
     "data": {
      "text/plain": [
       "7458.743187942027"
      ]
     },
     "execution_count": 320,
     "metadata": {},
     "output_type": "execute_result"
    }
   ],
   "source": [
    "for i in range(len(new_loans)):\n",
    "    present_value_new_loans = present_value_new_loans + new_loans[i]/(1+current_discount_rate)**i\n",
    "present_value_new_loans"
   ]
  },
  {
   "cell_type": "code",
   "execution_count": 337,
   "id": "eb90ad45",
   "metadata": {},
   "outputs": [],
   "source": [
    "def calculate_present_value_new_loans(future_value,remaining_months,annual_discount_rate):\n",
    "    present_value_new_loans = 0\n",
    "    remaining_months = 12\n",
    "    for i in range(len(new_loans)):\n",
    "        present_value_new_loans = present_value_new_loans + new_loans[i]/(1+annual_discount_rate)**remaining_months\n",
    "    return present_value_new_loans\n",
    "\n",
    "# creates a present value calculation funtion with the parameters: future_value, remaining_months, and the annual_discount_rate"
   ]
  },
  {
   "cell_type": "code",
   "execution_count": 350,
   "id": "8ac13de5",
   "metadata": {},
   "outputs": [
    {
     "data": {
      "text/plain": [
       "308.43080065769163"
      ]
     },
     "execution_count": 350,
     "metadata": {},
     "output_type": "execute_result"
    }
   ],
   "source": [
    "calculate_present_value_new_loans(new_loans,12,.2)\n",
    "\n",
    "# enables me to input various figures into the reuires positions to yield different results."
   ]
  }
 ],
 "metadata": {
  "kernelspec": {
   "display_name": "Python 3 (ipykernel)",
   "language": "python",
   "name": "python3"
  },
  "language_info": {
   "codemirror_mode": {
    "name": "ipython",
    "version": 3
   },
   "file_extension": ".py",
   "mimetype": "text/x-python",
   "name": "python",
   "nbconvert_exporter": "python",
   "pygments_lexer": "ipython3",
   "version": "3.9.12"
  }
 },
 "nbformat": 4,
 "nbformat_minor": 5
}
