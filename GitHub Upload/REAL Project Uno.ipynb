{
 "cells": [
  {
   "cell_type": "code",
   "execution_count": null,
   "id": "6be337a7",
   "metadata": {},
   "outputs": [],
   "source": [
    "# Module 1 Challenge"
   ]
  },
  {
   "cell_type": "code",
   "execution_count": 86,
   "id": "963cb993",
   "metadata": {},
   "outputs": [],
   "source": [
    "import csv"
   ]
  },
  {
   "cell_type": "code",
   "execution_count": 83,
   "id": "69706801",
   "metadata": {},
   "outputs": [],
   "source": [
    "from pathlib import Path"
   ]
  },
  {
   "cell_type": "code",
   "execution_count": 31,
   "id": "f2910a59",
   "metadata": {},
   "outputs": [],
   "source": [
    "loan_costs = [500, 600, 200, 1000, 450]"
   ]
  },
  {
   "cell_type": "code",
   "execution_count": 32,
   "id": "23386843",
   "metadata": {},
   "outputs": [],
   "source": [
    "total_number_of_loans = (len(loan_costs)) # takes total number of loans in list"
   ]
  },
  {
   "cell_type": "code",
   "execution_count": 33,
   "id": "46fabfcf",
   "metadata": {},
   "outputs": [
    {
     "name": "stdout",
     "output_type": "stream",
     "text": [
      "5\n"
     ]
    }
   ],
   "source": [
    "print(total_number_of_loans)"
   ]
  },
  {
   "cell_type": "code",
   "execution_count": 34,
   "id": "68135b29",
   "metadata": {},
   "outputs": [],
   "source": [
    "total_value_of_loans = sum(loan_costs) # takes total value of loans in list by adding"
   ]
  },
  {
   "cell_type": "code",
   "execution_count": 35,
   "id": "11908bd3",
   "metadata": {},
   "outputs": [
    {
     "name": "stdout",
     "output_type": "stream",
     "text": [
      "2750\n"
     ]
    }
   ],
   "source": [
    "print(total_value_of_loans)"
   ]
  },
  {
   "cell_type": "code",
   "execution_count": 36,
   "id": "51755322",
   "metadata": {},
   "outputs": [],
   "source": [
    "average_loan_price = (total_value_of_loans/total_number_of_loans) # takes average loan amoiunt by dividing total value by total number of loans in list"
   ]
  },
  {
   "cell_type": "code",
   "execution_count": 12,
   "id": "bbf42e6a",
   "metadata": {},
   "outputs": [
    {
     "name": "stdout",
     "output_type": "stream",
     "text": [
      "550.0\n"
     ]
    }
   ],
   "source": [
    "print(average_loan_price)"
   ]
  },
  {
   "cell_type": "code",
   "execution_count": 13,
   "id": "e6fb7a6d",
   "metadata": {},
   "outputs": [],
   "source": [
    "# dictionary of loans\n",
    "loan = {\n",
    "    \"loan_price\": 500,\n",
    "    \"remaining_months\": 9,\n",
    "    \"repayment_interval\": \"bullet\",\n",
    "    \"future_value\": 1000,\n",
    "}"
   ]
  },
  {
   "cell_type": "code",
   "execution_count": 15,
   "id": "c47948ae",
   "metadata": {},
   "outputs": [],
   "source": [
    "future_value_l1 = loan['future_value'] # defines variable for future value of loan"
   ]
  },
  {
   "cell_type": "code",
   "execution_count": 16,
   "id": "2d942666",
   "metadata": {},
   "outputs": [
    {
     "name": "stdout",
     "output_type": "stream",
     "text": [
      "1000\n"
     ]
    }
   ],
   "source": [
    "print(future_value_l1)"
   ]
  },
  {
   "cell_type": "code",
   "execution_count": 17,
   "id": "08c2742f",
   "metadata": {},
   "outputs": [],
   "source": [
    "remaining_months_l1 = loan['remaining_months']"
   ]
  },
  {
   "cell_type": "code",
   "execution_count": 18,
   "id": "03abf47b",
   "metadata": {},
   "outputs": [
    {
     "name": "stdout",
     "output_type": "stream",
     "text": [
      "9\n"
     ]
    }
   ],
   "source": [
    "print(remaining_months_l1)"
   ]
  },
  {
   "cell_type": "code",
   "execution_count": 20,
   "id": "71082c91",
   "metadata": {},
   "outputs": [
    {
     "name": "stdout",
     "output_type": "stream",
     "text": [
      "861.7727126032183\n"
     ]
    }
   ],
   "source": [
    "discount_rate = .2\n",
    "fair_value = future_value_l1 / (1 + discount_rate/12) ** 9\n",
    "print(fair_value)"
   ]
  },
  {
   "cell_type": "code",
   "execution_count": 21,
   "id": "cb4fadd0",
   "metadata": {},
   "outputs": [
    {
     "name": "stdout",
     "output_type": "stream",
     "text": [
      "the loan is worth at least the cost to buy it\n"
     ]
    }
   ],
   "source": [
    "if fair_value >= loan['loan_price']:\n",
    "    print(\"the loan is worth at least the cost to buy it\")\n",
    "else:\n",
    "    print(\"the loan is too expensive and not worth the price\")"
   ]
  },
  {
   "cell_type": "code",
   "execution_count": 15,
   "id": "5a22e819",
   "metadata": {},
   "outputs": [],
   "source": [
    "new_loan = {\n",
    "    \"loan_price\": 800,\n",
    "    \"remaining_months\": 12,\n",
    "    \"repayment_interval\": \"bullet\",\n",
    "    \"future_value\": 1000,\n",
    "}"
   ]
  },
  {
   "cell_type": "code",
   "execution_count": 16,
   "id": "e77ba6df",
   "metadata": {},
   "outputs": [],
   "source": [
    "future_value = new_loan[\"future_value\"]"
   ]
  },
  {
   "cell_type": "code",
   "execution_count": 19,
   "id": "4197fddf",
   "metadata": {},
   "outputs": [],
   "source": [
    "remaining_months = new_loan[\"remaining_months\"]"
   ]
  },
  {
   "cell_type": "code",
   "execution_count": 43,
   "id": "1c2f588e",
   "metadata": {},
   "outputs": [],
   "source": [
    "annual_discount_rate = .2"
   ]
  },
  {
   "cell_type": "code",
   "execution_count": 47,
   "id": "e299b688",
   "metadata": {},
   "outputs": [],
   "source": [
    "present_value_new_loan = future_value / (1 + annual_discount_rate/12) ** remaining_months"
   ]
  },
  {
   "cell_type": "code",
   "execution_count": 61,
   "id": "1b8cdcc3",
   "metadata": {},
   "outputs": [],
   "source": [
    "def calculate_present_value(future_value, remaining_months, annual_discount_rate):\n",
    "    \n",
    "    present_value_new_loan = future_value / (1 + annual_discount_rate/12) ** remaining_months\n",
    "    return present_value_new_loan\n"
   ]
  },
  {
   "cell_type": "code",
   "execution_count": 62,
   "id": "89cb8f2d",
   "metadata": {},
   "outputs": [
    {
     "name": "stdout",
     "output_type": "stream",
     "text": [
      "your present value of your loan is:  {820.0814425978174}\n"
     ]
    }
   ],
   "source": [
    "present_value = calculate_present_value(future_value=new_loan.get(\"future_value\"), remaining_months=new_loan.get(\"remaining_months\"), annual_discount_rate=0.2)\n",
    "print(\"your present value of your loan is: \", {present_value_new_loan})"
   ]
  },
  {
   "cell_type": "code",
   "execution_count": 50,
   "id": "a128dfa6",
   "metadata": {},
   "outputs": [],
   "source": [
    "inexpensive_loans = []"
   ]
  },
  {
   "cell_type": "code",
   "execution_count": 51,
   "id": "c7dd0b89",
   "metadata": {},
   "outputs": [],
   "source": [
    "loans = [\n",
    "    {\n",
    "        \"loan_price\": 700,\n",
    "        \"remaining_months\": 9,\n",
    "        \"repayment_interval\": \"monthly\",\n",
    "        \"future_value\": 1000,\n",
    "    },\n",
    "    {\n",
    "        \"loan_price\": 500,\n",
    "        \"remaining_months\": 13,\n",
    "        \"repayment_interval\": \"bullet\",\n",
    "        \"future_value\": 1000,\n",
    "    },\n",
    "    {\n",
    "        \"loan_price\": 200,\n",
    "        \"remaining_months\": 16,\n",
    "        \"repayment_interval\": \"bullet\",\n",
    "        \"future_value\": 1000,\n",
    "    },\n",
    "    {\n",
    "        \"loan_price\": 900,\n",
    "        \"remaining_months\": 16,\n",
    "        \"repayment_interval\": \"bullet\",\n",
    "        \"future_value\": 1000,\n",
    "    },\n",
    "]"
   ]
  },
  {
   "cell_type": "code",
   "execution_count": 52,
   "id": "663bda51",
   "metadata": {},
   "outputs": [
    {
     "data": {
      "text/plain": [
       "4"
      ]
     },
     "execution_count": 52,
     "metadata": {},
     "output_type": "execute_result"
    }
   ],
   "source": [
    "len(loans)"
   ]
  },
  {
   "cell_type": "code",
   "execution_count": 53,
   "id": "5c204e67",
   "metadata": {},
   "outputs": [
    {
     "data": {
      "text/plain": [
       "{'loan_price': 700,\n",
       " 'remaining_months': 9,\n",
       " 'repayment_interval': 'monthly',\n",
       " 'future_value': 1000}"
      ]
     },
     "execution_count": 53,
     "metadata": {},
     "output_type": "execute_result"
    }
   ],
   "source": [
    "loans[0]"
   ]
  },
  {
   "cell_type": "code",
   "execution_count": 78,
   "id": "7e0a1ae8",
   "metadata": {},
   "outputs": [
    {
     "name": "stdout",
     "output_type": "stream",
     "text": [
      "[{'loan_price': 500, 'remaining_months': 13, 'repayment_interval': 'bullet', 'future_value': 1000}, {'loan_price': 200, 'remaining_months': 16, 'repayment_interval': 'bullet', 'future_value': 1000}, {'loan_price': 500, 'remaining_months': 13, 'repayment_interval': 'bullet', 'future_value': 1000}, {'loan_price': 200, 'remaining_months': 16, 'repayment_interval': 'bullet', 'future_value': 1000}, {'loan_price': 900, 'remaining_months': 16, 'repayment_interval': 'bullet', 'future_value': 1000}, {'loan_price': 900, 'remaining_months': 16, 'repayment_interval': 'bullet', 'future_value': 1000}, {'loan_price': 500, 'remaining_months': 13, 'repayment_interval': 'bullet', 'future_value': 1000}, {'loan_price': 200, 'remaining_months': 16, 'repayment_interval': 'bullet', 'future_value': 1000}, {'loan_price': 500, 'remaining_months': 13, 'repayment_interval': 'bullet', 'future_value': 1000}, {'loan_price': 200, 'remaining_months': 16, 'repayment_interval': 'bullet', 'future_value': 1000}, {'loan_price': 500, 'remaining_months': 13, 'repayment_interval': 'bullet', 'future_value': 1000}, {'loan_price': 200, 'remaining_months': 16, 'repayment_interval': 'bullet', 'future_value': 1000}, {'loan_price': 500, 'remaining_months': 13, 'repayment_interval': 'bullet', 'future_value': 1000}, {'loan_price': 200, 'remaining_months': 16, 'repayment_interval': 'bullet', 'future_value': 1000}, {'loan_price': 500, 'remaining_months': 13, 'repayment_interval': 'bullet', 'future_value': 1000}, {'loan_price': 200, 'remaining_months': 16, 'repayment_interval': 'bullet', 'future_value': 1000}]\n"
     ]
    }
   ],
   "source": [
    "for x in loans:\n",
    "    \n",
    "    if x[\"loan_price\"] <= 500:\n",
    "        inexpensive_loans.append(x)\n",
    "\n",
    "print(inexpensive_loans)\n",
    "\n"
   ]
  },
  {
   "cell_type": "code",
   "execution_count": 79,
   "id": "df7df868",
   "metadata": {},
   "outputs": [
    {
     "data": {
      "text/plain": [
       "16"
      ]
     },
     "execution_count": 79,
     "metadata": {},
     "output_type": "execute_result"
    }
   ],
   "source": [
    "len(inexpensive_loans)"
   ]
  },
  {
   "cell_type": "code",
   "execution_count": 80,
   "id": "7a8e9cb6",
   "metadata": {},
   "outputs": [],
   "source": [
    "header = [\"loan_price\", \"remaining_months\", \"repayment_interval\", \"future_value\"]"
   ]
  },
  {
   "cell_type": "code",
   "execution_count": 84,
   "id": "bc78533e",
   "metadata": {},
   "outputs": [],
   "source": [
    "output_path = Path(\"inexpensive_loans.csv\")"
   ]
  },
  {
   "cell_type": "code",
   "execution_count": 88,
   "id": "df9a5828",
   "metadata": {},
   "outputs": [],
   "source": [
    "with open(file=output_path, mode=\"w\",) as csvfile:\n",
    "    csv_writer = csv.writer(csvfile, delimiter=\",\")\n",
    "    csv_writer.writerow(header)\n",
    "    for loan in inexpensive_loans:\n",
    "        csv_writer.writerow(loan.values())"
   ]
  }
 ],
 "metadata": {
  "kernelspec": {
   "display_name": "Python 3 (ipykernel)",
   "language": "python",
   "name": "python3"
  },
  "language_info": {
   "codemirror_mode": {
    "name": "ipython",
    "version": 3
   },
   "file_extension": ".py",
   "mimetype": "text/x-python",
   "name": "python",
   "nbconvert_exporter": "python",
   "pygments_lexer": "ipython3",
   "version": "3.9.12"
  }
 },
 "nbformat": 4,
 "nbformat_minor": 5
}
